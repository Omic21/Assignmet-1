{
 "cells": [
  {
   "cell_type": "code",
   "execution_count": 1,
   "id": "43e85be8",
   "metadata": {},
   "outputs": [
    {
     "name": "stdout",
     "output_type": "stream",
     "text": [
      "rakmO\n"
     ]
    }
   ],
   "source": [
    "my_str = \"Omkar\"\n",
    "print(my_str[5: :-1])"
   ]
  },
  {
   "cell_type": "code",
   "execution_count": 3,
   "id": "e5f40b19",
   "metadata": {},
   "outputs": [
    {
     "name": "stdout",
     "output_type": "stream",
     "text": [
      "koobetoN retypuJ ,nohtyP\n"
     ]
    }
   ],
   "source": [
    "my_str = 'Python, Jupyter Notebook'\n",
    "print(my_str[24::-1])"
   ]
  },
  {
   "cell_type": "code",
   "execution_count": null,
   "id": "d7f28fbb",
   "metadata": {},
   "outputs": [],
   "source": []
  }
 ],
 "metadata": {
  "kernelspec": {
   "display_name": "Python 3 (ipykernel)",
   "language": "python",
   "name": "python3"
  },
  "language_info": {
   "codemirror_mode": {
    "name": "ipython",
    "version": 3
   },
   "file_extension": ".py",
   "mimetype": "text/x-python",
   "name": "python",
   "nbconvert_exporter": "python",
   "pygments_lexer": "ipython3",
   "version": "3.10.0"
  }
 },
 "nbformat": 4,
 "nbformat_minor": 5
}
